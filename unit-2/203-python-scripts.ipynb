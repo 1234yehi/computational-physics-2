{
 "cells": [
  {
   "cell_type": "markdown",
   "id": "b67b8d61",
   "metadata": {},
   "source": [
    "# Python Scripts\n",
    "\n",
    "## Python Scopes:\n",
    "\n",
    "Scopes are environments within which variables are defined.\n",
    "\n",
    "- A variable is only available from inside the region where it is created.\n",
    "\n",
    "We have two types:\n",
    "\n",
    "## In Python functions:\n",
    "\n",
    "### 1. Local scope:\n",
    "\n",
    "A variable created inside a function belongs to the local scope of that function, and can only be used inside that function.\n"
   ]
  },
  {
   "cell_type": "code",
   "execution_count": null,
   "id": "fe7f5f2f",
   "metadata": {},
   "outputs": [],
   "source": [
    "# Example\n",
    "\n",
    "def function_example():\n",
    "    # a is defined as a local variable/scope\n",
    "    a = \"computational physics II\"\n",
    "    print(a)"
   ]
  },
  {
   "cell_type": "code",
   "execution_count": null,
   "id": "5084f14c",
   "metadata": {},
   "outputs": [],
   "source": [
    "# Call the funtion\n",
    "\n",
    "function_example()\n",
    "\n",
    "#print(a) # produces an error"
   ]
  },
  {
   "cell_type": "code",
   "execution_count": null,
   "id": "083dd690",
   "metadata": {},
   "outputs": [],
   "source": [
    "# 2nd Example\n",
    "\n",
    "def function_example():\n",
    "    # a is defined as a local variable/scope\n",
    "    a = \"computational physics II\"\n",
    "    def function_example2():\n",
    "        print(a)\n",
    "    function_example2()"
   ]
  },
  {
   "cell_type": "code",
   "execution_count": null,
   "id": "9300855f",
   "metadata": {},
   "outputs": [],
   "source": [
    "function_example()"
   ]
  },
  {
   "cell_type": "code",
   "execution_count": null,
   "id": "bd080164",
   "metadata": {},
   "outputs": [],
   "source": [
    "# 3rd Example\n",
    "\n",
    "def function_example():\n",
    "    def function_example2():\n",
    "        # a is defined as a local variable/scope\n",
    "        a = \"computational physics II\"\n",
    "        print(a)\n",
    "    function_example2()"
   ]
  },
  {
   "cell_type": "code",
   "execution_count": null,
   "id": "a6f0b519",
   "metadata": {},
   "outputs": [],
   "source": [
    "function_example()"
   ]
  },
  {
   "cell_type": "code",
   "execution_count": null,
   "id": "4edb19e1",
   "metadata": {},
   "outputs": [],
   "source": [
    "#print(a)"
   ]
  },
  {
   "cell_type": "markdown",
   "id": "84d90400",
   "metadata": {},
   "source": [
    "### 2. Global scope:\n",
    "\n",
    "A variable created in the main body of the Python code is a global variable and belongs to the global scope.\n",
    "\n",
    "Global variables are available from within any scope, global and local."
   ]
  },
  {
   "cell_type": "code",
   "execution_count": null,
   "id": "23311be4",
   "metadata": {},
   "outputs": [],
   "source": [
    "# a is defined as a global variable/scope\n",
    "a = \"computational physics II\""
   ]
  },
  {
   "cell_type": "code",
   "execution_count": null,
   "id": "16c2f6b5",
   "metadata": {},
   "outputs": [],
   "source": [
    "# 4th Example\n",
    "\n",
    "def function_example():\n",
    "    def function_example2():\n",
    "        print(a)\n",
    "    function_example2()"
   ]
  },
  {
   "cell_type": "code",
   "execution_count": null,
   "id": "e3ad0528",
   "metadata": {},
   "outputs": [],
   "source": [
    "function_example()"
   ]
  },
  {
   "cell_type": "code",
   "execution_count": null,
   "id": "ac6d7174",
   "metadata": {},
   "outputs": [],
   "source": [
    "print(a)"
   ]
  },
  {
   "cell_type": "code",
   "execution_count": null,
   "id": "a49fe63b-be35-41d7-90b5-1bb7180f6ade",
   "metadata": {},
   "outputs": [],
   "source": [
    "%whos"
   ]
  },
  {
   "cell_type": "code",
   "execution_count": null,
   "id": "a3016856",
   "metadata": {},
   "outputs": [],
   "source": [
    "# Free the memory/remove the variable\n",
    "del(a)"
   ]
  },
  {
   "cell_type": "code",
   "execution_count": null,
   "id": "edde5fe8",
   "metadata": {},
   "outputs": [],
   "source": [
    "#print(a) # prints an error"
   ]
  },
  {
   "cell_type": "markdown",
   "id": "be040fd9",
   "metadata": {},
   "source": [
    "#### Hierarchy:"
   ]
  },
  {
   "cell_type": "code",
   "execution_count": null,
   "id": "ed040b8f",
   "metadata": {},
   "outputs": [],
   "source": [
    "# Global vriable\n",
    "\n",
    "a = \"physics\"\n",
    "\n",
    "def function_example3():\n",
    "    a = \"biology\"\n",
    "    print(a)"
   ]
  },
  {
   "cell_type": "code",
   "execution_count": null,
   "id": "fefaef77-d380-4666-8d02-dfa14ebd392c",
   "metadata": {},
   "outputs": [],
   "source": [
    "print(a)"
   ]
  },
  {
   "cell_type": "code",
   "execution_count": null,
   "id": "4d399e37",
   "metadata": {},
   "outputs": [],
   "source": [
    "function_example3()"
   ]
  },
  {
   "cell_type": "code",
   "execution_count": null,
   "id": "281a075a",
   "metadata": {},
   "outputs": [],
   "source": [
    "print(a)"
   ]
  },
  {
   "cell_type": "markdown",
   "id": "2c717781",
   "metadata": {},
   "source": [
    "### Creating global variable from a local scope:\n",
    "\n",
    "\n",
    "We use **global** (local -> global)"
   ]
  },
  {
   "cell_type": "code",
   "execution_count": null,
   "id": "f19988f1",
   "metadata": {},
   "outputs": [],
   "source": [
    "# Example\n",
    "\n",
    "a = \"physics\"\n",
    "\n",
    "def function_example4():\n",
    "    # We use the keyword global\n",
    "    \n",
    "    global a\n",
    "    a = \"biology\"\n",
    "    print(a)\n",
    "    "
   ]
  },
  {
   "cell_type": "code",
   "execution_count": null,
   "id": "5e0a2e56",
   "metadata": {},
   "outputs": [],
   "source": [
    "# Print the global variable \n",
    "print(a)"
   ]
  },
  {
   "cell_type": "code",
   "execution_count": null,
   "id": "f150dfb6",
   "metadata": {},
   "outputs": [],
   "source": [
    "# Print function output\n",
    "function_example4()"
   ]
  },
  {
   "cell_type": "code",
   "execution_count": null,
   "id": "d4420cff",
   "metadata": {},
   "outputs": [],
   "source": [
    "# Print the global variable \n",
    "print(a)"
   ]
  },
  {
   "cell_type": "markdown",
   "id": "475ce268",
   "metadata": {},
   "source": [
    "### What is stored in memory?"
   ]
  },
  {
   "cell_type": "code",
   "execution_count": null,
   "id": "cc0d56ae",
   "metadata": {},
   "outputs": [],
   "source": [
    "# View all the variables, methods that are being used in memory\n",
    "globals()"
   ]
  },
  {
   "cell_type": "code",
   "execution_count": null,
   "id": "946d59c6",
   "metadata": {},
   "outputs": [],
   "source": [
    "locals()"
   ]
  },
  {
   "cell_type": "code",
   "execution_count": null,
   "id": "b43fc902",
   "metadata": {},
   "outputs": [],
   "source": [
    "# Names of variables:\n",
    "\n",
    "%whos"
   ]
  },
  {
   "cell_type": "code",
   "execution_count": null,
   "id": "aecf5ae1",
   "metadata": {},
   "outputs": [],
   "source": [
    "print(a)"
   ]
  },
  {
   "cell_type": "code",
   "execution_count": null,
   "id": "0bd1d4b6",
   "metadata": {},
   "outputs": [],
   "source": [
    "del(a)"
   ]
  },
  {
   "cell_type": "code",
   "execution_count": null,
   "id": "76474c4a",
   "metadata": {
    "scrolled": true
   },
   "outputs": [],
   "source": [
    "# Names of variables:\n",
    "\n",
    "%whos"
   ]
  },
  {
   "cell_type": "markdown",
   "id": "e2e56414-2e9a-4bf4-8890-78457f5faaa4",
   "metadata": {},
   "source": [
    "## In Python classes:\n",
    "\n",
    "### Global and local scopes"
   ]
  },
  {
   "cell_type": "code",
   "execution_count": null,
   "id": "1add7ebb-c455-407c-95b7-e41dd6f7611e",
   "metadata": {},
   "outputs": [],
   "source": [
    "# Global variable\n",
    "global_var = \"I am a global variable\"\n",
    "\n",
    "class Example:\n",
    "    def __init__(self, value):\n",
    "        # Local variable (instance attribute)\n",
    "        self.local_var = value\n",
    "\n",
    "    def show_variables(self):\n",
    "        # Accessing local and global variables\n",
    "        print(f\"Local variable: {self.local_var}\")\n",
    "        print(f\"Global variable: {global_var}\")\n"
   ]
  },
  {
   "cell_type": "code",
   "execution_count": null,
   "id": "2c500b40-f3e3-40b6-83fe-d0afe13211b9",
   "metadata": {},
   "outputs": [],
   "source": [
    "# Create an instance\n",
    "obj = Example(\"I am a local variable\")\n",
    "obj.show_variables()"
   ]
  },
  {
   "cell_type": "markdown",
   "id": "0f11a9dc-ab60-42b9-a22d-3e75a21a5205",
   "metadata": {},
   "source": [
    "### Using global inside a class"
   ]
  },
  {
   "cell_type": "code",
   "execution_count": null,
   "id": "2e4b1dd1-0d56-43f0-ac59-5b0f82f38f6f",
   "metadata": {},
   "outputs": [],
   "source": [
    "# Global variable\n",
    "counter = 0\n",
    "\n",
    "class Counter:\n",
    "    def increment(self):\n",
    "        global counter  # Declaring the global variable\n",
    "        counter += 1\n",
    "        print(f\"Counter updated to: {counter}\")\n"
   ]
  },
  {
   "cell_type": "code",
   "execution_count": null,
   "id": "618fbc94-3ed3-401f-880e-e494f51ac888",
   "metadata": {},
   "outputs": [],
   "source": [
    "# Create object and call method\n",
    "obj1 = Counter()\n",
    "obj1.increment()\n",
    "obj1.increment()\n",
    "obj1.increment()\n",
    "obj1.increment()\n",
    "obj1.increment()\n",
    "obj1.increment()\n",
    "obj1.increment()\n",
    "obj1.increment()"
   ]
  },
  {
   "cell_type": "code",
   "execution_count": null,
   "id": "55984931-6331-4a81-964a-0e05847a846a",
   "metadata": {},
   "outputs": [],
   "source": [
    "print(counter)"
   ]
  },
  {
   "cell_type": "markdown",
   "id": "938aeb59",
   "metadata": {},
   "source": [
    "# Python Scripts:\n",
    "\n",
    "- Python is a powerful scripting language.\n",
    "\n",
    "\n",
    "- A script is a code library.\n",
    "\n",
    "\n",
    "- It is a file with .py extension\n",
    "\n",
    "\n",
    "- It contains a set of classes/functions.\n",
    "\n",
    "#### Reference:\n",
    "\n",
    "https://sbu-python-class.github.io/python-science/01-python/w4-python-modules.html\n"
   ]
  },
  {
   "cell_type": "markdown",
   "id": "1d7c631e",
   "metadata": {},
   "source": [
    "## Creating/Viewing scripts\n",
    "To create a module, save or edit python code in a file with the file extension **.py**:"
   ]
  },
  {
   "cell_type": "code",
   "execution_count": null,
   "id": "fee6a010",
   "metadata": {},
   "outputs": [],
   "source": [
    "!cat ./first_script.py"
   ]
  },
  {
   "cell_type": "markdown",
   "id": "c0221f95",
   "metadata": {},
   "source": [
    "## Using scripts as modules\n",
    "\n",
    "We can use these modules using the **import** statement.\n",
    "\n",
    "Module can contain functions and/or variables of all types (arrays, dictionaries, objects etc)."
   ]
  },
  {
   "cell_type": "code",
   "execution_count": null,
   "id": "a3644aff-b71b-416c-ad05-c64ac125d31b",
   "metadata": {},
   "outputs": [],
   "source": [
    "!ls -ltr first_module.py"
   ]
  },
  {
   "cell_type": "code",
   "execution_count": 2,
   "id": "c56b871c",
   "metadata": {},
   "outputs": [],
   "source": [
    "# We import our module\n",
    "import first_module as fm"
   ]
  },
  {
   "cell_type": "code",
   "execution_count": 3,
   "id": "50dbcd3c",
   "metadata": {},
   "outputs": [
    {
     "name": "stdout",
     "output_type": "stream",
     "text": [
      "Hola, Fisica Computacional II.\n"
     ]
    }
   ],
   "source": [
    "# We use it defining a str\n",
    "\n",
    "fm.print_message(\"Fisica Computacional II.\")"
   ]
  },
  {
   "cell_type": "code",
   "execution_count": 4,
   "id": "dbc906c3-6b88-4912-a02e-d13c118d0e76",
   "metadata": {},
   "outputs": [
    {
     "name": "stdout",
     "output_type": "stream",
     "text": [
      "Hola, CP2.\n"
     ]
    }
   ],
   "source": [
    "import first_script"
   ]
  },
  {
   "cell_type": "code",
   "execution_count": 5,
   "id": "e7679bcb-3408-462e-8859-3fd91e0f4f41",
   "metadata": {},
   "outputs": [
    {
     "name": "stdout",
     "output_type": "stream",
     "text": [
      "Hola, in  Fisica Computacional II.\n"
     ]
    }
   ],
   "source": [
    "# We use it defining a str\n",
    "\n",
    "first_script.print_message(\"in  Fisica Computacional II.\")"
   ]
  },
  {
   "cell_type": "markdown",
   "id": "7a40adce",
   "metadata": {},
   "source": [
    "### Second example"
   ]
  },
  {
   "cell_type": "code",
   "execution_count": 7,
   "id": "41d53dc2",
   "metadata": {},
   "outputs": [
    {
     "name": "stdout",
     "output_type": "stream",
     "text": [
      "# This is our second script\n",
      "\n",
      "# Function\n",
      "def print_message(msg):\n",
      "    \"\"\"\n",
      "    Print the string (msg) provided by the user\n",
      "    Input: String (msg)\n",
      "    Output: print statement\n",
      "    \"\"\"\n",
      "    print(\"Hola, \" + msg)\n",
      "\n",
      "# Dictionary\n",
      "physics_courses = {\n",
      "  \"level\": \"BSc\",\n",
      "  \"course\": \"electrodynamics I\",\n",
      "  \"semester\": 5,\n",
      "  \"programme\": \"physics/nanotechnology\"\n",
      "}\n",
      "\n",
      "print_message(\"Hola\")\n"
     ]
    }
   ],
   "source": [
    "!cat second_script.py"
   ]
  },
  {
   "cell_type": "code",
   "execution_count": 8,
   "id": "d34ef8cb",
   "metadata": {},
   "outputs": [
    {
     "name": "stdout",
     "output_type": "stream",
     "text": [
      "Hola, Hola\n"
     ]
    }
   ],
   "source": [
    "# We import our module\n",
    "import second_script"
   ]
  },
  {
   "cell_type": "code",
   "execution_count": 9,
   "id": "9fa7f17e",
   "metadata": {},
   "outputs": [
    {
     "name": "stdout",
     "output_type": "stream",
     "text": [
      "Hola, Clase de Fisica Computacional II.\n"
     ]
    }
   ],
   "source": [
    "# We use it defining a str\n",
    "\n",
    "second_script.print_message(\"Clase de Fisica Computacional II.\")"
   ]
  },
  {
   "cell_type": "code",
   "execution_count": 10,
   "id": "3a7ed96e",
   "metadata": {},
   "outputs": [
    {
     "name": "stdout",
     "output_type": "stream",
     "text": [
      "5 <class 'int'>\n",
      "physics/nanotechnology <class 'str'>\n"
     ]
    }
   ],
   "source": [
    "# We call the dictionary\n",
    "\n",
    "obj1 = second_script.physics_courses[\"semester\"]\n",
    "obj2 = second_script.physics_courses[\"programme\"]\n",
    "\n",
    "print(obj1, type(obj1))\n",
    "print(obj2, type(obj2))"
   ]
  },
  {
   "cell_type": "markdown",
   "id": "69595284-5856-4e25-b0b4-8f30f0bf04f3",
   "metadata": {},
   "source": [
    "### Running vs. Importing Scripts/Modules\n",
    "\n",
    "In Python, every script/module has a special built-in variable called \\_\\_name__.\n",
    "\n",
    "- If the script is run directly, \\_\\_name__ is set to \\_\\_main__.\n",
    "\n",
    "- If the script is imported, \\_\\_name__ is set to the module’s filename (e.g., \"script\" instead of \\_\\_main__).\n",
    "\n",
    "A line: \\_\\_name__ == \"\\_\\_main__\" ensures that the script runs only when executed directly and not when imported as a module into another script.\n",
    "\n",
    "- **Direct Execution:** If we run the script (python script.py), the block under if \\_\\_name__ == \"\\_\\_main__\": will execute.\n",
    "\n",
    "- **Import Safety:** If you import this script in another Python file (import script), the code inside this block will not run automatically.\n",
    "\n",
    "The distinctioon between modules and scripts in small, but we could say that:\n",
    "\n",
    "- Scripts are run automously.\n",
    "\n",
    "- Modules act as libraries that are imported.\n",
    "\n",
    "- Of course, scripts can always be imported as modules.\n",
    "\n",
    "- \\_\\_name__ == \"\\_\\_main__\" should be used to distinguish script-like code from module-like code.\n"
   ]
  },
  {
   "cell_type": "code",
   "execution_count": 11,
   "id": "075fc0e2-123d-4fe5-91b2-f0ccc7327be0",
   "metadata": {},
   "outputs": [],
   "source": [
    "import third_script"
   ]
  },
  {
   "cell_type": "markdown",
   "id": "49c658ef-c632-4712-9a51-c845f63a28df",
   "metadata": {},
   "source": [
    "### Third file:\n",
    "\n",
    "!cat third_script.py\n",
    "\n",
    "def say_hi():\n",
    "\n",
    "    print(\"Hi from Python!\")\n",
    "\n",
    "if __name__ == \"__main__\":\n",
    "\n",
    "    print(\"Script is running directly!\")\n",
    "    \n",
    "    say_hi()\n",
    "\n",
    "### Fourth file:\n",
    "\n",
    "!cat fourth_script.py \n",
    "import third_script\n",
    "\n",
    "print(\"This is another script!\")\n"
   ]
  },
  {
   "cell_type": "code",
   "execution_count": null,
   "id": "7e8bce97-b4f8-48e6-a2d1-5161e77de196",
   "metadata": {},
   "outputs": [],
   "source": [
    "import fourth_script"
   ]
  },
  {
   "cell_type": "markdown",
   "id": "300d27a5",
   "metadata": {},
   "source": [
    "## Built-in modules in Python:"
   ]
  },
  {
   "cell_type": "markdown",
   "id": "da9f0d8d",
   "metadata": {},
   "source": [
    "### 1. platform:\n",
    "\n",
    "https://docs.python.org/3/library/platform.html\n",
    "\n"
   ]
  },
  {
   "cell_type": "code",
   "execution_count": 12,
   "id": "5ba2aa51",
   "metadata": {},
   "outputs": [],
   "source": [
    "import platform"
   ]
  },
  {
   "cell_type": "code",
   "execution_count": 13,
   "id": "6f063a5b",
   "metadata": {},
   "outputs": [
    {
     "name": "stdout",
     "output_type": "stream",
     "text": [
      "Darwin\n",
      "arm\n",
      "3.9.18\n"
     ]
    }
   ],
   "source": [
    "obj = platform.system()\n",
    "\n",
    "print(obj)\n",
    "\n",
    "obj2 = platform.processor()\n",
    "\n",
    "print(obj2)\n",
    "\n",
    "obj3 = platform.python_version()\n",
    "\n",
    "print(obj3)"
   ]
  },
  {
   "cell_type": "markdown",
   "id": "ce1ce667",
   "metadata": {},
   "source": [
    "### The dir() function in platform\n",
    "\n",
    "dir() lists all the function names (or variable names) in a module."
   ]
  },
  {
   "cell_type": "code",
   "execution_count": 14,
   "id": "8f00f42f",
   "metadata": {},
   "outputs": [
    {
     "name": "stdout",
     "output_type": "stream",
     "text": [
      "['_Processor', '_WIN32_CLIENT_RELEASES', '_WIN32_SERVER_RELEASES', '__builtins__', '__cached__', '__copyright__', '__doc__', '__file__', '__loader__', '__name__', '__package__', '__spec__', '__version__', '_comparable_version', '_component_re', '_default_architecture', '_follow_symlinks', '_get_machine_win32', '_ironpython26_sys_version_parser', '_ironpython_sys_version_parser', '_java_getprop', '_libc_search', '_mac_ver_xml', '_node', '_norm_version', '_platform', '_platform_cache', '_pypy_sys_version_parser', '_sys_version', '_sys_version_cache', '_sys_version_parser', '_syscmd_file', '_syscmd_ver', '_uname_cache', '_unknown_as_blank', '_ver_output', '_ver_stages', 'architecture', 'collections', 'functools', 'itertools', 'java_ver', 'libc_ver', 'mac_ver', 'machine', 'node', 'os', 'platform', 'processor', 'python_branch', 'python_build', 'python_compiler', 'python_implementation', 'python_revision', 'python_version', 'python_version_tuple', 're', 'release', 'subprocess', 'sys', 'system', 'system_alias', 'uname', 'uname_result', 'version', 'win32_edition', 'win32_is_iot', 'win32_ver']\n"
     ]
    }
   ],
   "source": [
    "obj3 = dir(platform)\n",
    "\n",
    "print(obj3)"
   ]
  },
  {
   "cell_type": "markdown",
   "id": "8252c2fe",
   "metadata": {},
   "source": [
    "### Import using aliasing:"
   ]
  },
  {
   "cell_type": "code",
   "execution_count": null,
   "id": "cc64fb67",
   "metadata": {},
   "outputs": [],
   "source": [
    "# We import our module\n",
    "import second_script as sm"
   ]
  },
  {
   "cell_type": "code",
   "execution_count": null,
   "id": "deb2d61c",
   "metadata": {},
   "outputs": [],
   "source": [
    "obj4 = dir(sm)\n",
    "\n",
    "print(obj4)"
   ]
  },
  {
   "cell_type": "markdown",
   "id": "48a8a452",
   "metadata": {},
   "source": [
    "### 2. datetime\n",
    "\n",
    "https://www.w3schools.com/python/python_datetime.asp"
   ]
  },
  {
   "cell_type": "code",
   "execution_count": 15,
   "id": "5d1ada30",
   "metadata": {},
   "outputs": [],
   "source": [
    "import datetime"
   ]
  },
  {
   "cell_type": "code",
   "execution_count": 17,
   "id": "96454e47",
   "metadata": {},
   "outputs": [
    {
     "name": "stdout",
     "output_type": "stream",
     "text": [
      "2025-02-27 18:47:21.039828 <class 'datetime.datetime'>\n"
     ]
    }
   ],
   "source": [
    "# Call the current time\n",
    "\n",
    "x = datetime.datetime.now()\n",
    "\n",
    "print(x, type(x))"
   ]
  },
  {
   "cell_type": "code",
   "execution_count": 18,
   "id": "6d4cd3a1",
   "metadata": {},
   "outputs": [
    {
     "name": "stdout",
     "output_type": "stream",
     "text": [
      "2025-02-27 18:47:21.039828\n"
     ]
    }
   ],
   "source": [
    "y = datetime.datetime.fromisoformat(str(x))\n",
    "\n",
    "print(y)"
   ]
  },
  {
   "cell_type": "code",
   "execution_count": 19,
   "id": "845ee075",
   "metadata": {},
   "outputs": [
    {
     "name": "stdout",
     "output_type": "stream",
     "text": [
      "year: 2025\n",
      "month: 02\n",
      "day: 27\n",
      "time: 18:47:52\n",
      "date and time: 02/27/2025, 18:47:52\n"
     ]
    }
   ],
   "source": [
    "# Examples:\n",
    "now = datetime.datetime.now() # current date and time\n",
    "\n",
    "year = now.strftime(\"%Y\")\n",
    "print(\"year:\", year)\n",
    "\n",
    "month = now.strftime(\"%m\")\n",
    "print(\"month:\", month)\n",
    "\n",
    "day = now.strftime(\"%d\")\n",
    "print(\"day:\", day)\n",
    "\n",
    "time = now.strftime(\"%H:%M:%S\")\n",
    "print(\"time:\", time)\n",
    "\n",
    "date_time = now.strftime(\"%m/%d/%Y, %H:%M:%S\")\n",
    "print(\"date and time:\",date_time)"
   ]
  },
  {
   "cell_type": "markdown",
   "id": "584540ee",
   "metadata": {},
   "source": [
    "# Exceptions\n",
    "\n",
    "There are a lot of different types of exceptions that you can catch, and you can catch multiple ones per except clause or have multiple except clauses.\n",
    "\n",
    "You probably won't be able to anticipate every failure mode in advance.  In that case, when you run and your code crashes because of an exception, the python interpreter will print out the name of the exception and you can then modify your code to take the appropriate action.\n",
    "\n",
    "Python raises exceptions when it encounters an error.  The idea is that you can trap these exceptions and take an appropriate action instead of causing the code to crash.\n",
    "\n",
    "The mechanism for this is `try` / `except`.  Here's an example that causes an exception, `ZeroDivisionError`:"
   ]
  },
  {
   "cell_type": "markdown",
   "id": "7d4724af",
   "metadata": {},
   "source": [
    "### Example 1:"
   ]
  },
  {
   "cell_type": "code",
   "execution_count": 20,
   "id": "09e5a376",
   "metadata": {},
   "outputs": [
    {
     "ename": "ZeroDivisionError",
     "evalue": "float division by zero",
     "output_type": "error",
     "traceback": [
      "\u001b[0;31m---------------------------------------------------------------------------\u001b[0m",
      "\u001b[0;31mZeroDivisionError\u001b[0m                         Traceback (most recent call last)",
      "Cell \u001b[0;32mIn[20], line 1\u001b[0m\n\u001b[0;32m----> 1\u001b[0m obj \u001b[38;5;241m=\u001b[39m \u001b[38;5;241;43m1.\u001b[39;49m\u001b[38;5;241;43m/\u001b[39;49m\u001b[38;5;241;43m0.\u001b[39;49m\n\u001b[1;32m      3\u001b[0m \u001b[38;5;28mprint\u001b[39m(obj)\n",
      "\u001b[0;31mZeroDivisionError\u001b[0m: float division by zero"
     ]
    }
   ],
   "source": [
    "obj = 1./0.\n",
    "\n",
    "print(obj)"
   ]
  },
  {
   "cell_type": "code",
   "execution_count": 21,
   "id": "422fc6ac",
   "metadata": {},
   "outputs": [
    {
     "name": "stdout",
     "output_type": "stream",
     "text": [
      "Warning: you are dividing by zero\n"
     ]
    }
   ],
   "source": [
    "# Add an exception:\n",
    "try:\n",
    "    # Here we write the operation\n",
    "    a = 1./0.\n",
    "    \n",
    "except ZeroDivisionError:\n",
    "    # Add an exception -> warning\n",
    "    print(\"Warning: you are dividing by zero\")\n",
    "    a = 1. "
   ]
  },
  {
   "cell_type": "code",
   "execution_count": 22,
   "id": "a8f72f7e",
   "metadata": {},
   "outputs": [
    {
     "name": "stdout",
     "output_type": "stream",
     "text": [
      "1.0\n"
     ]
    }
   ],
   "source": [
    "print(a)"
   ]
  },
  {
   "cell_type": "markdown",
   "id": "5d79720d",
   "metadata": {},
   "source": [
    "### Example 2:\n",
    "\n",
    "Another example; trying to access a key that doesn't exist in a dictionary:"
   ]
  },
  {
   "cell_type": "code",
   "execution_count": 23,
   "id": "3a60238a",
   "metadata": {},
   "outputs": [
    {
     "name": "stdout",
     "output_type": "stream",
     "text": [
      "1.0\n",
      "2.0\n",
      "3.0\n"
     ]
    },
    {
     "ename": "KeyError",
     "evalue": "'key4'",
     "output_type": "error",
     "traceback": [
      "\u001b[0;31m---------------------------------------------------------------------------\u001b[0m",
      "\u001b[0;31mKeyError\u001b[0m                                  Traceback (most recent call last)",
      "Cell \u001b[0;32mIn[23], line 6\u001b[0m\n\u001b[1;32m      4\u001b[0m \u001b[38;5;28mprint\u001b[39m(dictionary_1[\u001b[38;5;124m\"\u001b[39m\u001b[38;5;124mkey2\u001b[39m\u001b[38;5;124m\"\u001b[39m])\n\u001b[1;32m      5\u001b[0m \u001b[38;5;28mprint\u001b[39m(dictionary_1[\u001b[38;5;124m\"\u001b[39m\u001b[38;5;124mkey3\u001b[39m\u001b[38;5;124m\"\u001b[39m])\n\u001b[0;32m----> 6\u001b[0m \u001b[38;5;28mprint\u001b[39m(\u001b[43mdictionary_1\u001b[49m\u001b[43m[\u001b[49m\u001b[38;5;124;43m\"\u001b[39;49m\u001b[38;5;124;43mkey4\u001b[39;49m\u001b[38;5;124;43m\"\u001b[39;49m\u001b[43m]\u001b[49m)\n",
      "\u001b[0;31mKeyError\u001b[0m: 'key4'"
     ]
    }
   ],
   "source": [
    "dictionary_1 = {\"key1\": 1., \"key2\": 2., \"key3\": 3.}\n",
    "\n",
    "print(dictionary_1[\"key1\"])\n",
    "print(dictionary_1[\"key2\"])\n",
    "print(dictionary_1[\"key3\"])\n",
    "print(dictionary_1[\"key4\"])"
   ]
  },
  {
   "cell_type": "code",
   "execution_count": 24,
   "id": "fa9a5f09",
   "metadata": {},
   "outputs": [
    {
     "name": "stdout",
     "output_type": "stream",
     "text": [
      "Warning: this key does not exist, reverting to key3.\n"
     ]
    }
   ],
   "source": [
    "# Add an exception\n",
    "\n",
    "try:\n",
    "    val = dictionary_1[\"key4\"]\n",
    "    \n",
    "except KeyError: \n",
    "    print(\"Warning: this key does not exist, reverting to key3.\")\n",
    "    val = dictionary_1[\"key3\"]"
   ]
  },
  {
   "cell_type": "code",
   "execution_count": 25,
   "id": "1058d7ff",
   "metadata": {},
   "outputs": [
    {
     "name": "stdout",
     "output_type": "stream",
     "text": [
      "3.0\n"
     ]
    }
   ],
   "source": [
    "print(val)"
   ]
  },
  {
   "cell_type": "markdown",
   "id": "b607ebe8",
   "metadata": {},
   "source": [
    "### Example 3:\n",
    "\n",
    "When you open a file, you get an object which you can then interact with. \n",
    "\n",
    "Here we try to open a file for reading that does not already exist."
   ]
  },
  {
   "cell_type": "code",
   "execution_count": 34,
   "id": "3415235e",
   "metadata": {},
   "outputs": [
    {
     "name": "stdout",
     "output_type": "stream",
     "text": [
      "./text_files/file.txt\n"
     ]
    }
   ],
   "source": [
    "!ls ./text_files/*.txt"
   ]
  },
  {
   "cell_type": "code",
   "execution_count": 31,
   "id": "bb55a3e4-d7f6-475c-8110-a234b6195191",
   "metadata": {},
   "outputs": [
    {
     "name": "stdout",
     "output_type": "stream",
     "text": [
      "/Users/wbandabarragan/Library/CloudStorage/Dropbox/GitHub_Repos/computational-physics-2/unit-2\n"
     ]
    }
   ],
   "source": [
    "!pwd"
   ]
  },
  {
   "cell_type": "code",
   "execution_count": 35,
   "id": "b4618619",
   "metadata": {},
   "outputs": [
    {
     "ename": "FileNotFoundError",
     "evalue": "[Errno 2] No such file or directory: 'file.txt'",
     "output_type": "error",
     "traceback": [
      "\u001b[0;31m---------------------------------------------------------------------------\u001b[0m",
      "\u001b[0;31mFileNotFoundError\u001b[0m                         Traceback (most recent call last)",
      "Cell \u001b[0;32mIn[35], line 3\u001b[0m\n\u001b[1;32m      1\u001b[0m \u001b[38;5;66;03m# Let's try to open a file that does not exist in ./\u001b[39;00m\n\u001b[0;32m----> 3\u001b[0m file \u001b[38;5;241m=\u001b[39m \u001b[38;5;28;43mopen\u001b[39;49m\u001b[43m(\u001b[49m\u001b[38;5;124;43m\"\u001b[39;49m\u001b[38;5;124;43mfile.txt\u001b[39;49m\u001b[38;5;124;43m\"\u001b[39;49m\u001b[43m,\u001b[49m\u001b[43m \u001b[49m\u001b[38;5;124;43m\"\u001b[39;49m\u001b[38;5;124;43mr\u001b[39;49m\u001b[38;5;124;43m\"\u001b[39;49m\u001b[43m)\u001b[49m\n",
      "File \u001b[0;32m/opt/anaconda3/envs/py39/lib/python3.9/site-packages/IPython/core/interactiveshell.py:286\u001b[0m, in \u001b[0;36m_modified_open\u001b[0;34m(file, *args, **kwargs)\u001b[0m\n\u001b[1;32m    279\u001b[0m \u001b[38;5;28;01mif\u001b[39;00m file \u001b[38;5;129;01min\u001b[39;00m {\u001b[38;5;241m0\u001b[39m, \u001b[38;5;241m1\u001b[39m, \u001b[38;5;241m2\u001b[39m}:\n\u001b[1;32m    280\u001b[0m     \u001b[38;5;28;01mraise\u001b[39;00m \u001b[38;5;167;01mValueError\u001b[39;00m(\n\u001b[1;32m    281\u001b[0m         \u001b[38;5;124mf\u001b[39m\u001b[38;5;124m\"\u001b[39m\u001b[38;5;124mIPython won\u001b[39m\u001b[38;5;124m'\u001b[39m\u001b[38;5;124mt let you open fd=\u001b[39m\u001b[38;5;132;01m{\u001b[39;00mfile\u001b[38;5;132;01m}\u001b[39;00m\u001b[38;5;124m by default \u001b[39m\u001b[38;5;124m\"\u001b[39m\n\u001b[1;32m    282\u001b[0m         \u001b[38;5;124m\"\u001b[39m\u001b[38;5;124mas it is likely to crash IPython. If you know what you are doing, \u001b[39m\u001b[38;5;124m\"\u001b[39m\n\u001b[1;32m    283\u001b[0m         \u001b[38;5;124m\"\u001b[39m\u001b[38;5;124myou can use builtins\u001b[39m\u001b[38;5;124m'\u001b[39m\u001b[38;5;124m open.\u001b[39m\u001b[38;5;124m\"\u001b[39m\n\u001b[1;32m    284\u001b[0m     )\n\u001b[0;32m--> 286\u001b[0m \u001b[38;5;28;01mreturn\u001b[39;00m \u001b[43mio_open\u001b[49m\u001b[43m(\u001b[49m\u001b[43mfile\u001b[49m\u001b[43m,\u001b[49m\u001b[43m \u001b[49m\u001b[38;5;241;43m*\u001b[39;49m\u001b[43margs\u001b[49m\u001b[43m,\u001b[49m\u001b[43m \u001b[49m\u001b[38;5;241;43m*\u001b[39;49m\u001b[38;5;241;43m*\u001b[39;49m\u001b[43mkwargs\u001b[49m\u001b[43m)\u001b[49m\n",
      "\u001b[0;31mFileNotFoundError\u001b[0m: [Errno 2] No such file or directory: 'file.txt'"
     ]
    }
   ],
   "source": [
    "# Let's try to open a file that does not exist in ./\n",
    "\n",
    "file = open(\"file.txt\", \"r\")"
   ]
  },
  {
   "cell_type": "code",
   "execution_count": 38,
   "id": "c330a0b6",
   "metadata": {},
   "outputs": [
    {
     "name": "stdout",
     "output_type": "stream",
     "text": [
      "Warning: that file does not exist in ./, trying ./text_files/\n"
     ]
    }
   ],
   "source": [
    "# Add an exception\n",
    "\n",
    "try:\n",
    "    \n",
    "    file = open(\"file.txt\", \"r\")\n",
    "    \n",
    "except FileNotFoundError:\n",
    "    \n",
    "    print(\"Warning: that file does not exist in ./, trying ./text_files/\")\n",
    "    \n",
    "    file = open(\"./text_files/file.txt\", \"r\")"
   ]
  },
  {
   "cell_type": "code",
   "execution_count": null,
   "id": "184c5fff",
   "metadata": {},
   "outputs": [],
   "source": [
    "print(file)"
   ]
  },
  {
   "cell_type": "code",
   "execution_count": null,
   "id": "b8528e5b-c565-4e46-9d94-d3ee58070024",
   "metadata": {},
   "outputs": [],
   "source": []
  }
 ],
 "metadata": {
  "kernelspec": {
   "display_name": "Python 3 (ipykernel)",
   "language": "python",
   "name": "python3"
  },
  "language_info": {
   "codemirror_mode": {
    "name": "ipython",
    "version": 3
   },
   "file_extension": ".py",
   "mimetype": "text/x-python",
   "name": "python",
   "nbconvert_exporter": "python",
   "pygments_lexer": "ipython3",
   "version": "3.9.18"
  }
 },
 "nbformat": 4,
 "nbformat_minor": 5
}
