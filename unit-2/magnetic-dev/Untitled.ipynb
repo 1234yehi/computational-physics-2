{
 "cells": [
  {
   "cell_type": "code",
   "execution_count": 10,
   "id": "b0bb50a3-1f88-4560-a0f8-ba1a77e358a1",
   "metadata": {},
   "outputs": [],
   "source": [
    "import magnetic.magnetic as mg"
   ]
  },
  {
   "cell_type": "code",
   "execution_count": 11,
   "id": "6b0342da-8986-4738-b391-efb9c3752b3f",
   "metadata": {},
   "outputs": [
    {
     "name": "stdout",
     "output_type": "stream",
     "text": [
      "Help on module magnetic.magnetic in magnetic:\n",
      "\n",
      "NAME\n",
      "    magnetic.magnetic - # Import modules\n",
      "\n",
      "CLASSES\n",
      "    builtins.object\n",
      "        MagneticField2D\n",
      "    \n",
      "    class MagneticField2D(builtins.object)\n",
      "     |  MagneticField2D(x_l=-10.0, x_r=10, y_l=-10, y_r=10, n=50)\n",
      "     |  \n",
      "     |  TBA\n",
      "     |  \n",
      "     |  Methods defined here:\n",
      "     |  \n",
      "     |  __init__(self, x_l=-10.0, x_r=10, y_l=-10, y_r=10, n=50)\n",
      "     |  \n",
      "     |  grid_generator(self)\n",
      "     |  \n",
      "     |  plot_2dfield(self, field_type='uniform')\n",
      "     |  \n",
      "     |  ----------------------------------------------------------------------\n",
      "     |  Static methods defined here:\n",
      "     |  \n",
      "     |  dipolar_bfield(x_2d, y_2d)\n",
      "     |  \n",
      "     |  uniform_bfield(x_2d, y_2d)\n",
      "     |  \n",
      "     |  ----------------------------------------------------------------------\n",
      "     |  Data descriptors defined here:\n",
      "     |  \n",
      "     |  __dict__\n",
      "     |      dictionary for instance variables (if defined)\n",
      "     |  \n",
      "     |  __weakref__\n",
      "     |      list of weak references to the object (if defined)\n",
      "\n",
      "FILE\n",
      "    /Users/wbandabarragan/Library/CloudStorage/Dropbox/GitHub_Repos/computational-physics-2/unit-2/magnetic-dev/magnetic/magnetic.py\n",
      "\n",
      "\n"
     ]
    }
   ],
   "source": [
    "help(mg)"
   ]
  },
  {
   "cell_type": "code",
   "execution_count": 14,
   "id": "1ae6cbce-a722-4859-9c0c-ee190eda909e",
   "metadata": {},
   "outputs": [],
   "source": [
    "mag = mg.MagneticField2D()\n",
    "\n",
    "xx, yy = mag.grid_generator()"
   ]
  },
  {
   "cell_type": "code",
   "execution_count": null,
   "id": "fbb89e9a-9031-4081-ba48-55c2b8c707d0",
   "metadata": {},
   "outputs": [],
   "source": []
  }
 ],
 "metadata": {
  "kernelspec": {
   "display_name": "Python 3 (ipykernel)",
   "language": "python",
   "name": "python3"
  },
  "language_info": {
   "codemirror_mode": {
    "name": "ipython",
    "version": 3
   },
   "file_extension": ".py",
   "mimetype": "text/x-python",
   "name": "python",
   "nbconvert_exporter": "python",
   "pygments_lexer": "ipython3",
   "version": "3.9.18"
  }
 },
 "nbformat": 4,
 "nbformat_minor": 5
}
