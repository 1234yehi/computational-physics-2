{
 "cells": [
  {
   "cell_type": "markdown",
   "id": "79a26852",
   "metadata": {},
   "source": [
    "# I/O with python classes\n",
    "\n",
    "One of the main things that we want to do in scientific computing is get data into and out of our programs. \n",
    "\n",
    "In addition to plain text files, there are modules that can read lots of different data formats we might encounter."
   ]
  },
  {
   "cell_type": "markdown",
   "id": "74f474d5",
   "metadata": {},
   "source": [
    "### Print\n",
    "\n",
    "We've already been using print quite a bit, but now we'll look at how to control how information is printed.\n"
   ]
  },
  {
   "cell_type": "code",
   "execution_count": 49,
   "id": "2f779752",
   "metadata": {},
   "outputs": [
    {
     "name": "stdout",
     "output_type": "stream",
     "text": [
      "1 3.54e-05 3.0 my string\n"
     ]
    }
   ],
   "source": [
    "x = 1\n",
    "y = 0.0000354\n",
    "z = 3.0\n",
    "s = \"my string\"\n",
    "\n",
    "print(x, y, z, s)"
   ]
  },
  {
   "cell_type": "markdown",
   "id": "a187db82",
   "metadata": {},
   "source": [
    "We write a string with `{}` embedded to indicate where variables are to be inserted.  Note that `{}` can take arguments.  We use the `format()` method on the string to match the variables to the `{}`."
   ]
  },
  {
   "cell_type": "code",
   "execution_count": 50,
   "id": "de8a589e",
   "metadata": {},
   "outputs": [
    {
     "name": "stdout",
     "output_type": "stream",
     "text": [
      "x = 1, y = 3.54e-05, z = 3.0, s = my string\n"
     ]
    }
   ],
   "source": [
    "print(\"x = {}, y = {}, z = {}, s = {}\".format(x, y, z, s))"
   ]
  },
  {
   "cell_type": "markdown",
   "id": "d61175b6",
   "metadata": {},
   "source": [
    "We can give an optional index/position/descriptor of the value we want to print.\n",
    "\n",
    "We give a format specifier. It has a number field and a type, like `f` and `g` to describe how floating point numbers appear and how much precision to show. Other bits are possible as well (like justification). "
   ]
  },
  {
   "cell_type": "code",
   "execution_count": 52,
   "id": "75950847",
   "metadata": {},
   "outputs": [
    {
     "name": "stdout",
     "output_type": "stream",
     "text": [
      "x = 1, y = 3.54000e-05, z = 3.000, s = my string\n"
     ]
    }
   ],
   "source": [
    "print(\"x = {0}, y = {1:10.5e}, z = {2:.3f}, s = {3}\".format(x, y, z, s))"
   ]
  },
  {
   "cell_type": "markdown",
   "id": "de70c753",
   "metadata": {},
   "source": [
    "There are other formatting things, like justification, etc. "
   ]
  },
  {
   "cell_type": "code",
   "execution_count": 53,
   "id": "b6083520",
   "metadata": {},
   "outputs": [
    {
     "name": "stdout",
     "output_type": "stream",
     "text": [
      "                                          centered string                                           \n"
     ]
    }
   ],
   "source": [
    "print(\"{:^100}\".format(\"centered string\"))"
   ]
  },
  {
   "cell_type": "markdown",
   "id": "a3fc9a7c",
   "metadata": {},
   "source": [
    "## File I/O\n",
    "\n",
    "As expected, a file is an object.\n",
    "\n",
    "Here we'll use the `try`, `except` block to capture exceptions (like if the file cannot be opened). "
   ]
  },
  {
   "cell_type": "code",
   "execution_count": 54,
   "id": "46cd3106",
   "metadata": {},
   "outputs": [
    {
     "name": "stdout",
     "output_type": "stream",
     "text": [
      "cat: ./text_files/sample1.txt: No such file or directory\n"
     ]
    }
   ],
   "source": [
    "!cat ./text_files/sample1.txt"
   ]
  },
  {
   "cell_type": "code",
   "execution_count": 55,
   "id": "de45e875",
   "metadata": {},
   "outputs": [],
   "source": [
    "# Code with an exception\n",
    "\n",
    "try:\n",
    "    f = open(\"./text_files/sample1.txt\", \"w\")\n",
    "except:\n",
    "    print(\"File cannnot be opened\")\n"
   ]
  },
  {
   "cell_type": "code",
   "execution_count": 56,
   "id": "d6d0a6c8",
   "metadata": {},
   "outputs": [],
   "source": [
    "f.write(\"Hello, this is my second text file.\\n\")\n",
    "\n",
    "f.close()"
   ]
  },
  {
   "cell_type": "code",
   "execution_count": 57,
   "id": "aca672db-8474-4800-8101-3bb9295bd19f",
   "metadata": {},
   "outputs": [
    {
     "name": "stdout",
     "output_type": "stream",
     "text": [
      "Hello, this is my second text file.\n"
     ]
    }
   ],
   "source": [
    "!cat ./text_files/sample1.txt"
   ]
  },
  {
   "cell_type": "markdown",
   "id": "bb18a2e6",
   "metadata": {},
   "source": [
    "We can easily loop over the lines in a file:"
   ]
  },
  {
   "cell_type": "code",
   "execution_count": 58,
   "id": "3481cda2",
   "metadata": {},
   "outputs": [],
   "source": [
    "try: \n",
    "    f = open(\"./text_files/sample1.txt\", \"r\")\n",
    "    \n",
    "except:\n",
    "    print(\"error: cannot open the file\")"
   ]
  },
  {
   "cell_type": "code",
   "execution_count": 59,
   "id": "c7d12f87",
   "metadata": {},
   "outputs": [
    {
     "name": "stdout",
     "output_type": "stream",
     "text": [
      "['Hello,', 'this', 'is', 'my', 'second', 'text', 'file.']\n"
     ]
    }
   ],
   "source": [
    "for line in f:\n",
    "    \n",
    "    print(line.split())\n",
    "    \n",
    "f.close()"
   ]
  },
  {
   "cell_type": "markdown",
   "id": "43a7048c",
   "metadata": {},
   "source": [
    "## CSV Files\n",
    "\n",
    "Comma-separated values (CSV) are an easy way to exchange data -- you can generate these from a spreadsheet program.\n",
    "\n",
    "In the example below, we are assuming that the first line of the spreadsheet/csv file gives the headings that identify the columns.  \n",
    "\n",
    "Note that there is an amazing amount of variation in terms of what can be in a CSV file and what the format is -- the csv module does a good job sorting this all out for you."
   ]
  },
  {
   "cell_type": "markdown",
   "id": "d652aa72-328c-4d20-b991-5b217c377f64",
   "metadata": {},
   "source": [
    "## Read CSV file:"
   ]
  },
  {
   "cell_type": "code",
   "execution_count": 43,
   "id": "16350eba",
   "metadata": {},
   "outputs": [],
   "source": [
    "# Import CSV library\n",
    "\n",
    "import csv\n"
   ]
  },
  {
   "cell_type": "code",
   "execution_count": 60,
   "id": "cb005c74",
   "metadata": {},
   "outputs": [
    {
     "name": "stdout",
     "output_type": "stream",
     "text": [
      "item,quantity,unit price,total\n",
      "apples,2,0.33,0.66\n",
      "bananas,5,0.1,0.5\n",
      "milk,1,2.5,2.5\n",
      "soda,3,1,3\n",
      "rolls,12,0.33,3.96\n",
      "eggs,1,2.5,2.5\n"
     ]
    }
   ],
   "source": [
    "!cat ./shopping.csv"
   ]
  },
  {
   "cell_type": "code",
   "execution_count": 61,
   "id": "5c692acf",
   "metadata": {},
   "outputs": [],
   "source": [
    "class Item(object):\n",
    "    \n",
    "    # Init function\n",
    "    def __init__(self):\n",
    "        self.name = \"\"\n",
    "        self.quantity = 0\n",
    "        self.unitprice = 0.0\n",
    "        self.total = 0.0"
   ]
  },
  {
   "cell_type": "code",
   "execution_count": 62,
   "id": "3fe61bce",
   "metadata": {},
   "outputs": [],
   "source": [
    "# We want to define reader\n",
    "\n",
    "reader = csv.reader(open(\"shopping.csv\", \"r\"))\n",
    "\n",
    "headings = None\n",
    "\n",
    "shopping_list = []\n",
    "\n",
    "for row in reader:\n",
    "    if headings == None:\n",
    "        # First row\n",
    "        headings = row\n",
    "    else:\n",
    "        my_item = Item()\n",
    "        my_item.name = row[headings.index(\"item\")]\n",
    "        my_item.quantity = row[headings.index(\"quantity\")]\n",
    "        my_item.unitprice = row[headings.index(\"unit price\")]\n",
    "        my_item.total = row[headings.index(\"total\")]\n",
    "        \n",
    "        shopping_list.append(my_item)\n"
   ]
  },
  {
   "cell_type": "code",
   "execution_count": 63,
   "id": "283b2d61",
   "metadata": {},
   "outputs": [
    {
     "name": "stdout",
     "output_type": "stream",
     "text": [
      "[<__main__.Item object at 0x12481ac70>, <__main__.Item object at 0x122b2a790>, <__main__.Item object at 0x124a7bbe0>, <__main__.Item object at 0x124a7bdf0>, <__main__.Item object at 0x124a7bdc0>, <__main__.Item object at 0x124a7b970>]\n"
     ]
    }
   ],
   "source": [
    "print(shopping_list)"
   ]
  },
  {
   "cell_type": "code",
   "execution_count": 64,
   "id": "cfc5d4bb",
   "metadata": {},
   "outputs": [
    {
     "name": "stdout",
     "output_type": "stream",
     "text": [
      "item: apples, quantity: 2, unit price: 0.33, total: 0.66\n",
      "item: bananas, quantity: 5, unit price: 0.1, total: 0.5\n",
      "item: milk, quantity: 1, unit price: 2.5, total: 2.5\n",
      "item: soda, quantity: 3, unit price: 1, total: 3\n",
      "item: rolls, quantity: 12, unit price: 0.33, total: 3.96\n",
      "item: eggs, quantity: 1, unit price: 2.5, total: 2.5\n"
     ]
    }
   ],
   "source": [
    "# Loop over the list and print the items\n",
    "\n",
    "for i in shopping_list:\n",
    "    print (\"item: {}, quantity: {}, unit price: {}, total: {}\".format(i.name, i.quantity, i.unitprice, i.total))\n"
   ]
  },
  {
   "cell_type": "code",
   "execution_count": 66,
   "id": "e0417b27-c161-4fb9-832d-194b96f12ee8",
   "metadata": {},
   "outputs": [
    {
     "name": "stdout",
     "output_type": "stream",
     "text": [
      "6\n"
     ]
    }
   ],
   "source": [
    "print(len(shopping_list))\n"
   ]
  },
  {
   "cell_type": "code",
   "execution_count": 67,
   "id": "c79b5137-547a-4afa-bbcf-2b85c3c74bf6",
   "metadata": {},
   "outputs": [
    {
     "name": "stdout",
     "output_type": "stream",
     "text": [
      "CSV file 'selected_items.csv' created successfully!\n"
     ]
    }
   ],
   "source": [
    "# Select two items\n",
    "selected_items = shopping_list[:2]  # First two items\n",
    "\n",
    "# Write to a new CSV file\n",
    "csv_filename = \"selected_items.csv\"\n",
    "\n",
    "with open(csv_filename, mode=\"w\", newline=\"\") as file:\n",
    "    writer = csv.writer(file)\n",
    "    writer.writerow([\"item\", \"quantity\", \"unit price\", \"total\"])  # Writing headers\n",
    "\n",
    "    for item in selected_items:\n",
    "        writer.writerow([item.name, item.quantity, item.unitprice, item.total])\n",
    "\n",
    "print(f\"CSV file '{csv_filename}' created successfully!\")"
   ]
  },
  {
   "cell_type": "code",
   "execution_count": 68,
   "id": "0585fe0d-0158-43fd-9041-4fdc44b6955b",
   "metadata": {},
   "outputs": [
    {
     "name": "stdout",
     "output_type": "stream",
     "text": [
      "item,quantity,unit price,total\n",
      "apples,2,0.33,0.66\n",
      "bananas,5,0.1,0.5\n"
     ]
    }
   ],
   "source": [
    "!cat selected_items.csv"
   ]
  },
  {
   "cell_type": "markdown",
   "id": "6ba54f64-e38f-4572-890e-85998d205b02",
   "metadata": {},
   "source": [
    "# I/O class:"
   ]
  },
  {
   "cell_type": "code",
   "execution_count": 70,
   "id": "aa10e6ab-e118-410a-80ca-32b5bba29ba9",
   "metadata": {},
   "outputs": [],
   "source": [
    "class Item:\n",
    "    def __init__(self, name=\"\", quantity=0, unitprice=0.0, total=0.0):\n",
    "        self.name = name\n",
    "        self.quantity = quantity\n",
    "        self.unitprice = unitprice\n",
    "        self.total = total\n",
    "\n",
    "    def read_from_csv(filename):\n",
    "        \"\"\"Reads a CSV file and returns a list of Item objects.\"\"\"\n",
    "        shopping_list = []\n",
    "        with open(filename, mode=\"r\", newline=\"\") as file:\n",
    "            reader = csv.reader(file)\n",
    "            headings = next(reader)  # Read headers\n",
    "            \n",
    "            for row in reader:\n",
    "                item = Item(\n",
    "                    name=row[headings.index(\"item\")],\n",
    "                    quantity=int(row[headings.index(\"quantity\")]),\n",
    "                    unitprice=float(row[headings.index(\"unit price\")]),\n",
    "                    total=float(row[headings.index(\"total\")]),\n",
    "                )\n",
    "                shopping_list.append(item)\n",
    "        \n",
    "        return shopping_list\n",
    "\n",
    "    def write_to_csv(filename, items):\n",
    "        \"\"\"Writes a list of Item objects to a CSV file.\"\"\"\n",
    "        with open(filename, mode=\"w\", newline=\"\") as file:\n",
    "            writer = csv.writer(file)\n",
    "            writer.writerow([\"item\", \"quantity\", \"unit price\", \"total\"])  # Write headers\n",
    "\n",
    "            for item in items:\n",
    "                writer.writerow([item.name, item.quantity, item.unitprice, item.total])\n",
    "\n",
    "        print(f\"CSV file '{filename}' created successfully!\")\n"
   ]
  },
  {
   "cell_type": "code",
   "execution_count": 73,
   "id": "d4e3a08a-6316-4ea1-b8ad-d16d87a6d824",
   "metadata": {},
   "outputs": [
    {
     "name": "stdout",
     "output_type": "stream",
     "text": [
      "CSV file 'selected_items2.csv' created successfully!\n"
     ]
    }
   ],
   "source": [
    "# Usage example:\n",
    "shopping_list2 = Item.read_from_csv(\"shopping.csv\")  # Read all items\n",
    "Item.write_to_csv(\"selected_items2.csv\", shopping_list2[:3])  # Write first 3 items"
   ]
  },
  {
   "cell_type": "code",
   "execution_count": 72,
   "id": "204440f9-c710-41ae-b712-b281c0e5bc04",
   "metadata": {},
   "outputs": [
    {
     "name": "stdout",
     "output_type": "stream",
     "text": [
      "item,quantity,unit price,total\n",
      "apples,2,0.33,0.66\n",
      "bananas,5,0.1,0.5\n",
      "milk,1,2.5,2.5\n"
     ]
    }
   ],
   "source": [
    "!cat selected_items2.csv"
   ]
  },
  {
   "cell_type": "markdown",
   "id": "1e1ce5a0-d6dc-470f-a13f-6bfb554cf5be",
   "metadata": {},
   "source": [
    "# Web scrapping\n",
    "\n",
    "Now we are going to download a file from a URL."
   ]
  },
  {
   "cell_type": "code",
   "execution_count": 74,
   "id": "0f8cbe9d-f3f4-478d-b57e-991b1595302e",
   "metadata": {},
   "outputs": [],
   "source": [
    "import requests"
   ]
  },
  {
   "cell_type": "code",
   "execution_count": 92,
   "id": "ff755e53-276d-4145-bd5f-80a2e518d5c4",
   "metadata": {},
   "outputs": [],
   "source": [
    "class Get_Github_File:\n",
    "\n",
    "    def __init__(self, url, output_file):\n",
    "        \"\"\"\n",
    "        Init function\n",
    "        \"\"\"\n",
    "        self.url = url\n",
    "        self.output_file = output_file\n",
    "\n",
    "    def get_file(self):\n",
    "        \"\"\"\n",
    "        Download file\n",
    "        \"\"\"\n",
    "\n",
    "        response = requests.get(self.url)\n",
    "\n",
    "        with open(self.output_file, \"w\", encoding=\"utf-8\") as file:\n",
    "            file.write(response.text)\n",
    "\n",
    "        print(f\"File successfully downloade as '{self.output_file}'\")\n"
   ]
  },
  {
   "cell_type": "code",
   "execution_count": 93,
   "id": "55d2242e-dbe4-41cb-a897-062aa9efb352",
   "metadata": {},
   "outputs": [
    {
     "name": "stdout",
     "output_type": "stream",
     "text": [
      "File successfully downloade as 'downloaded_file.txt'\n"
     ]
    }
   ],
   "source": [
    "# Example usage:\n",
    "\n",
    "url = \"https://raw.githubusercontent.com/wbandabarragan/physics-teaching-data/main/1D-data/104444.9-264831_gass_spectrum.txt\"  \n",
    "\n",
    "out_file = \"downloaded_file.txt\"\n",
    "\n",
    "d_file = Get_Github_File(url, out_file)\n",
    "d_file.get_file()\n"
   ]
  },
  {
   "cell_type": "code",
   "execution_count": 94,
   "id": "9b46a41e-5ab1-4b46-b1e1-2f87e4a9ba1c",
   "metadata": {},
   "outputs": [
    {
     "name": "stdout",
     "output_type": "stream",
     "text": [
      "File successfully downloade as 'temperature-anomaly.txt'\n"
     ]
    }
   ],
   "source": [
    "url1 = \"https://raw.githubusercontent.com/wbandabarragan/physics-teaching-data/main/1D-data/temperature-anomaly.csv\"\n",
    "\n",
    "out_file1 = \"temperature-anomaly.txt\"\n",
    "\n",
    "d_file1 = Get_Github_File(url1, out_file1)\n",
    "d_file1.get_file()"
   ]
  },
  {
   "cell_type": "markdown",
   "id": "d49518f3",
   "metadata": {},
   "source": []
  }
 ],
 "metadata": {
  "kernelspec": {
   "display_name": "Python 3 (ipykernel)",
   "language": "python",
   "name": "python3"
  },
  "language_info": {
   "codemirror_mode": {
    "name": "ipython",
    "version": 3
   },
   "file_extension": ".py",
   "mimetype": "text/x-python",
   "name": "python",
   "nbconvert_exporter": "python",
   "pygments_lexer": "ipython3",
   "version": "3.9.18"
  }
 },
 "nbformat": 4,
 "nbformat_minor": 5
}
