{
 "cells": [
  {
   "cell_type": "markdown",
   "id": "5ba438f8",
   "metadata": {},
   "source": [
    "# Standalone Python Modules\n",
    "\n",
    "So far, we've been writing our code all in Jupyter.  But when it comes time to write code that we want to reuse, we want to put it into a standalone `*.py` file.\n",
    "\n",
    "Then we can load it on in python (or Jupyter) and use the capabilities it provides or make it a standalone program that can be run from the command line.\n",
    "\n",
    "## Editors\n",
    "\n",
    "There are a number of popular editors for writing python source.  Some\n",
    "popular ones include:\n",
    "\n",
    "* spyder: https://www.spyder-ide.org/\n",
    "\n",
    "* VS Code: https://code.visualstudio.com/\n",
    "\n",
    "* emacs / nano / vi / vim / gedit"
   ]
  },
  {
   "cell_type": "markdown",
   "id": "80583c68",
   "metadata": {},
   "source": [
    "\n",
    "## Basic module:\n",
    "\n",
    "Here's a very simply module (lets call it `hello.py`):\n",
    "\n",
    "```python\n",
    "def hello():\n",
    "    print(\"hello\")\n",
    "\n",
    "if __name__ == \"__main__\":\n",
    "    hello()\n",
    "```\n",
    "\n",
    "There are two ways we can use this.\n",
    "\n",
    "* Inside of python (or IPython), we can do:\n",
    "\n",
    "  ```\n",
    "  import hello\n",
    "  hello.hello()\n",
    "  ```\n",
    "\n",
    "* From the command line, we can do:\n",
    "\n",
    "  ```\n",
    "  python hello.py\n",
    "  ```\n",
    "\n",
    "Additionally, on a Unix system, we can add:\n",
    "\n",
    "```python\n",
    "#!/usr/bin/env python3\n",
    "```\n",
    "\n",
    "to the top and then mark the file as executable, via:\n",
    "\n",
    "```\n",
    "chmod a+x hello.py\n",
    "```\n",
    "\n",
    "allowing us to execute it simply as:\n",
    "\n",
    "```\n",
    "./hello.py\n",
    "\n",
    "```\n",
    "\n",
    "https://linuxhint.com/linux_chmod_command_tutorial_beginners/\n",
    "\n",
    "Here we see how the `__name__` variable is treated by python:\n",
    "\n",
    "* If we import our module into python, then `__name__` is set to the module name\n",
    "\n",
    "* If we run the module from the command line, then `__name__` is set to `__main__`"
   ]
  },
  {
   "cell_type": "code",
   "execution_count": 1,
   "id": "2dceb3fe",
   "metadata": {},
   "outputs": [],
   "source": [
    "# Import our new module\n",
    "\n",
    "import hello as hl"
   ]
  },
  {
   "cell_type": "code",
   "execution_count": 3,
   "id": "c2ee7107",
   "metadata": {},
   "outputs": [
    {
     "name": "stdout",
     "output_type": "stream",
     "text": [
      "hello\n"
     ]
    }
   ],
   "source": [
    "# Call one of the functions\n",
    "\n",
    "hl.hello()"
   ]
  },
  {
   "cell_type": "markdown",
   "id": "8c8c4e9c",
   "metadata": {},
   "source": [
    "## Changing module contents\n",
    "\n",
    "If we make changes to our module file, then we need to re-import it.  This can be done as:\n",
    "\n",
    "```python\n",
    "import importlib\n",
    "example = importlib.reload(example)\n",
    "```"
   ]
  },
  {
   "cell_type": "code",
   "execution_count": 4,
   "id": "0cb67285-48b1-4299-83ae-1de919ca9ec5",
   "metadata": {},
   "outputs": [],
   "source": [
    "import importlib"
   ]
  },
  {
   "cell_type": "code",
   "execution_count": 8,
   "id": "cc9d0476-01a1-4865-94d1-f3a47b8a0875",
   "metadata": {},
   "outputs": [
    {
     "name": "stdout",
     "output_type": "stream",
     "text": [
      "hello\n",
      "\n",
      "3.141592653589793\n"
     ]
    }
   ],
   "source": [
    "hl = importlib.reload(hl)\n",
    "hl.hello()"
   ]
  },
  {
   "cell_type": "markdown",
   "id": "17302efd",
   "metadata": {},
   "source": [
    "# The Argparse Library (Command line arguments):\n",
    "\n",
    "The argparse module makes it easy to write user-friendly command-line interfaces.\n",
    "\n",
    "\n",
    "The program defines what arguments it requires, and argparse will figure out how to parse those out of sys.argv.\n",
    "\n",
    "\n",
    "The argparse module also automatically generates help and usage messages.\n",
    "\n",
    "\n",
    "The module will also issue errors when users give the program invalid arguments.\n",
    "\n",
    "#### Reference:\n",
    "https://docs.python.org/3/library/argparse.html\n"
   ]
  },
  {
   "cell_type": "markdown",
   "id": "4772561a",
   "metadata": {},
   "source": [
    "## Core Functionality\n",
    "\n",
    "The argparse module’s support for command-line interfaces is built around an instance of **argparse.ArgumentParser.**\n",
    "\n",
    "\n",
    "It is a container for argument specifications and has options that apply the parser as whole:\n",
    "\n",
    "```python\n",
    "parser = argparse.ArgumentParser(\n",
    "                    prog = 'ProgramName',\n",
    "                    description = 'What the program does',\n",
    "                    epilog = 'Text at the bottom of help')\n",
    "```\n",
    "\n",
    "The **ArgumentParser.add_argument()** method attaches individual argument specifications to the parser. It supports positional arguments, options that accept values, and on/off flags:\n",
    "\n",
    "```python\n",
    "parser.add_argument('filename')    # positional argument\n",
    "parser.add_argument('-c', '--count') # option that takes a value\n",
    "parser.add_argument('-v', '--verbose', action='store_true') # on/off flag\n",
    "```\n",
    "\n",
    "The **ArgumentParser.parse_args()** method runs the parser and places the extracted data in a **argparse.Namespace object**:\n",
    "\n",
    "```\n",
    "args = parser.parse_args()\n",
    "print(args.filename, args.count, args.verbose)\n",
    "```"
   ]
  },
  {
   "cell_type": "markdown",
   "id": "f2140796",
   "metadata": {},
   "source": [
    "### Example 1:\n",
    "\n",
    "The following code is a Python program that takes a list of integers and produces either the sum or the max:\n",
    "\n",
    "```python\n",
    "import argparse\n",
    "\n",
    "parser = argparse.ArgumentParser(description='Process some integers.')\n",
    "\n",
    "parser.add_argument('integers', metavar='N', type=int, nargs='+',\n",
    "                    help='an integer for the accumulator')\n",
    "\n",
    "parser.add_argument('--sum', dest='accumulate', action='store_const', const=sum, default=max, help='sum the integers (default: find the max)')\n",
    "\n",
    "args = parser.parse_args()\n",
    "\n",
    "print(args.accumulate(args.integers))\n",
    "```\n",
    "\n",
    "Assuming the above Python code is saved into a file called prog.py, it can be run at the command line and it provides useful help messages:\n",
    "\n",
    "```\n",
    "python prog.py -h\n",
    "usage: prog.py [-h] [--sum] N [N ...]\n",
    "\n",
    "Process some integers.\n",
    "\n",
    "positional arguments:\n",
    " N           an integer for the accumulator\n",
    "\n",
    "options:\n",
    " -h, --help  show this help message and exit\n",
    " --sum       sum the integers (default: find the max)\n",
    " \n",
    "```\n",
    "\n",
    "When run with the appropriate arguments, it prints either the sum or the max of the command-line integers:\n",
    "\n",
    "```\n",
    "python prog.py 1 2 3 4\n",
    "4\n",
    "```\n",
    "\n",
    "```\n",
    "python prog.py 1 2 3 4 --sum\n",
    "10\n",
    "```\n",
    "\n",
    "If invalid arguments are passed in, an error will be displayed:\n",
    "\n",
    "```\n",
    "python prog.py a b c\n",
    "usage: prog.py [-h] [--sum] N [N ...]\n",
    "prog.py: error: argument N: invalid int value: 'a'\n",
    "```"
   ]
  },
  {
   "cell_type": "markdown",
   "id": "fb2304b1",
   "metadata": {},
   "source": [
    "### Example 2:\n",
    "\n",
    "For standalone programs, we often want to have our program take command line arguments that affect the runtime behavior of our program.\n",
    "There are a variety of mechanisms to do this in python, but the best option is the [argparse module](https://docs.python.org/3/library/argparse.html).\n",
    "\n",
    "Here's an example of using `argparse` to take a variety of options:\n",
    "\n",
    "```python\n",
    "#!/usr/bin/env python3\n",
    "\n",
    "# to get usage: use -h\n",
    "import argparse\n",
    "\n",
    "# simple example of argparse\n",
    "\n",
    "parser = argparse.ArgumentParser()\n",
    "parser.add_argument(\"-a\", help=\"the -a option\", action=\"store_true\")\n",
    "parser.add_argument(\"-b\", help=\"-b takes a number\", type=int, default=0)\n",
    "parser.add_argument(\"-c\", help=\"-c takes a string\", type=str, default=None)\n",
    "parser.add_argument(\"--darg\", help=\"the --darg option\", action=\"store_true\")\n",
    "parser.add_argument(\"--earg\", help=\"--earg takes a string\", type=str, metavar=\"test\", default=\"example string\")\n",
    "\n",
    "# extra arguments (positional)\n",
    "parser.add_argument(\"extras\", metavar=\"extra\", type=str, nargs=\"*\",\n",
    "                    help=\"optional positional arguments\")\n",
    "\n",
    "args = parser.parse_args()\n",
    "\n",
    "if args.a:\n",
    "    print(\"-a set\")\n",
    "print(f\"-b = {args.b}\")\n",
    "print(f\"-c = {args.c}\")\n",
    "if args.darg:\n",
    "    print(\"--dargs set\")\n",
    "print(f\"--earg value = {args.earg}\")\n",
    "\n",
    "print(\" \")\n",
    "print(\"extra positional arguments: \")\n",
    "if len(args.extras) > 0:\n",
    "    for e in args.extras:\n",
    "        print(e)\n",
    "```\n"
   ]
  },
  {
   "cell_type": "markdown",
   "id": "21ca34a9",
   "metadata": {},
   "source": [
    "### Execution:\n",
    "\n",
    "```python prog2.py -a -b 3 -c \"hola\" --darg --earg \"chao\" \"regreso\"```"
   ]
  },
  {
   "cell_type": "markdown",
   "id": "a2c93aa8",
   "metadata": {},
   "source": [
    "### sys module vs. argparse:"
   ]
  },
  {
   "cell_type": "markdown",
   "id": "9f944927",
   "metadata": {},
   "source": [
    "### Example 3:\n",
    "\n",
    "You can use **sys.argv** to provide input/output directories for multi-file codes. Let's create the beginning of such code:\n",
    "\n",
    "```\n",
    "vim custom_folders.py\n",
    "```\n",
    "\n",
    "Copy the following lines: \n",
    "\n",
    "```\n",
    "#!/usr/bin/env python\n",
    "\n",
    "import sys\n",
    "\n",
    "inputfolder  = sys.argv[1]\n",
    "outputfolder = sys.argv[2]\n",
    "\n",
    "print('Input folder is: ' + inputfolder, 'Output folder is: ' + outputfolder)\n",
    "\n",
    "print('Now provide number please:')\n",
    "\n",
    "inputnumber = input()\n",
    "\n",
    "print('Thanks, the number provided is: ' + inputnumber)\n",
    "```"
   ]
  },
  {
   "cell_type": "markdown",
   "id": "83adffe2",
   "metadata": {},
   "source": [
    "## Module Paths\n",
    "\n",
    "How does python find modules? It has a search order:\n",
    "\n",
    "1. current directory\n",
    "\n",
    "\n",
    "2. **PYTHONPATH** environment variable\n",
    "\n",
    "\n",
    "3. System-wide python installation default path\n",
    "\n",
    "We can look at the path via sys.path. On my machine I get:"
   ]
  },
  {
   "cell_type": "code",
   "execution_count": 34,
   "id": "16b8d5e7",
   "metadata": {},
   "outputs": [],
   "source": [
    "import sys"
   ]
  },
  {
   "cell_type": "code",
   "execution_count": 35,
   "id": "d46bc518",
   "metadata": {},
   "outputs": [
    {
     "name": "stdout",
     "output_type": "stream",
     "text": [
      "['/Users/wbandabarragan/Library/CloudStorage/Dropbox/GitHub_Repos/computational-physics-2/unit-2', '/opt/anaconda3/envs/py39/lib/python39.zip', '/opt/anaconda3/envs/py39/lib/python3.9', '/opt/anaconda3/envs/py39/lib/python3.9/lib-dynload', '', '/opt/anaconda3/envs/py39/lib/python3.9/site-packages']\n"
     ]
    }
   ],
   "source": [
    "print(sys.path)"
   ]
  },
  {
   "cell_type": "markdown",
   "id": "445ac492",
   "metadata": {},
   "source": [
    "Some of these are packages that I explicited added to my **PYTHONPATH** shell variable.\n",
    "\n",
    "You can find your user-specific path via:"
   ]
  },
  {
   "cell_type": "code",
   "execution_count": 36,
   "id": "c62f6c65",
   "metadata": {},
   "outputs": [
    {
     "name": "stdout",
     "output_type": "stream",
     "text": [
      "/Users/wbandabarragan/.local/lib/python3.9/site-packages\n"
     ]
    }
   ],
   "source": [
    "!python3 -m site --user-site"
   ]
  },
  {
   "cell_type": "code",
   "execution_count": 37,
   "id": "67a4c2d3",
   "metadata": {},
   "outputs": [
    {
     "name": "stdout",
     "output_type": "stream",
     "text": [
      "Python 3.9.18\n"
     ]
    }
   ],
   "source": [
    "!python --version"
   ]
  },
  {
   "cell_type": "code",
   "execution_count": null,
   "id": "717382e6",
   "metadata": {},
   "outputs": [],
   "source": [
    "import mymodule"
   ]
  },
  {
   "cell_type": "markdown",
   "id": "1f9864c5",
   "metadata": {},
   "source": [
    "## PATH on Linux:\n",
    "\n",
    "$PATH contains binaries, i.e. executables.\n",
    "\n",
    "```\n",
    "echo $PATH\n",
    "```\n",
    "\n",
    "```\n",
    "echo $PYTHONPATH\n",
    "```\n",
    "\n",
    "**export** can be used to add additional binaries to a specific $PATH:\n",
    "\n",
    "```\n",
    "export /new-bin/:$PATH\n",
    "```"
   ]
  },
  {
   "cell_type": "markdown",
   "id": "d9b17896-8289-4b02-b525-2bb2877fff83",
   "metadata": {},
   "source": [
    "# Configuration (ini) Files\n",
    "\n",
    "INI or Config files are a common way of specifying options to a program.  They can take the form (from the `ConfigParser` page):\n",
    "\n",
    "```\n",
    "[My Section]\n",
    "foodir: %(dir)s/whatever\n",
    "dir = frob\n",
    "long: this value continues in the next line\n",
    "```\n",
    "\n",
    "Here we look at how to read in options and store them in a dictionary of the form `dict[\"sec.option\"] = value`\n",
    "\n",
    "We'll use a sample .ini file from a regression test suite (`tests.ini`).\n",
    "\n",
    "### ConfigParser\n",
    "\n",
    "- This module provides the ConfigParser class which implements a basic configuration language which provides a structure similar to what’s found in Microsoft Windows INI files. You can use this to write Python programs which can be customized by end users easily.\n",
    "\n",
    "- Essentially, the file consists of sections, each of which contains keys with values. configparser classes can read and write such files. Let’s start by creating the above configuration file programmatically.\n",
    "\n",
    "- We can treat a config parser much like a dictionary.\n",
    "\n",
    "- API is straightforward. The DEFAULT section which provides default values for all other sections. Note also that keys in sections are case-insensitive and stored in lowercase.\n",
    "\n",
    "- Config parsers do not guess datatypes of values in configuration files, always storing them internally as strings. This means that if you need other datatypes, you should convert on your own:\n",
    "\n",
    "\n",
    "### Write an INI file using ConfigParser:\n",
    "\n",
    "```python\n",
    "[DEFAULT]\n",
    "serveraliveinterval = 45\n",
    "compression = yes\n",
    "compressionlevel = 9\n",
    "forwardx11 = yes\n",
    "\n",
    "[EXAMPLE]\n",
    "user = hg\n",
    "\n",
    "[TOP_SECRET]\n",
    "port = 50022\n",
    "forwardx11 = no\n",
    "```"
   ]
  },
  {
   "cell_type": "code",
   "execution_count": 38,
   "id": "c1cf3aba-88eb-454a-ae1f-952cc2a54ac3",
   "metadata": {},
   "outputs": [],
   "source": [
    "import configparser"
   ]
  },
  {
   "cell_type": "code",
   "execution_count": 39,
   "id": "47481303-5097-4361-a802-b0c4d9fcc669",
   "metadata": {},
   "outputs": [],
   "source": [
    "# Create an empty dictionary to store the tests.ini file information\n",
    "config = configparser.ConfigParser()\n",
    "\n",
    "config['DEFAULT'] = {'ServerAliveInterval': '45',\n",
    "                     'Compression': 'yes',\n",
    "                     'CompressionLevel': '9'}\n",
    "\n",
    "config['EXAMPLE'] = {}\n",
    "config['EXAMPLE']['User'] = 'hg'\n",
    "\n",
    "config['TOP_SECRET'] = {}\n",
    "\n",
    "topsecret = config['TOP_SECRET']\n",
    "topsecret['Port'] = '50022'     # mutates the parser\n",
    "topsecret['ForwardX11'] = 'no'  # same here\n",
    "\n",
    "config['DEFAULT']['ForwardX11'] = 'yes'\n",
    "\n",
    "with open('first_file.ini', 'w') as configfile:\n",
    "  config.write(configfile)\n"
   ]
  },
  {
   "cell_type": "code",
   "execution_count": 41,
   "id": "79e1f99c-16ee-4d31-bc4f-436dcf9076e3",
   "metadata": {},
   "outputs": [
    {
     "name": "stdout",
     "output_type": "stream",
     "text": [
      "-rw-r--r--@ 1 wbandabarragan  staff  156 Mar  6 18:34 first_file.ini\n"
     ]
    }
   ],
   "source": [
    "!ls -ltr first_file.ini\n"
   ]
  },
  {
   "cell_type": "code",
   "execution_count": 56,
   "id": "a41f369c-b7d1-4151-a604-188481ed4ad0",
   "metadata": {},
   "outputs": [
    {
     "name": "stdout",
     "output_type": "stream",
     "text": [
      "[DEFAULT]\n",
      "serveraliveinterval = 45\n",
      "compression = yes\n",
      "compressionlevel = 9\n",
      "forwardx11 = yes\n",
      "\n",
      "[EXAMPLE]\n",
      "user = hg\n",
      "\n",
      "[TOP_SECRET]\n",
      "port = 50022\n",
      "forwardx11 = no\n",
      "\n"
     ]
    }
   ],
   "source": [
    "!cat first_file.ini\n"
   ]
  },
  {
   "cell_type": "code",
   "execution_count": 43,
   "id": "386eac21-b755-4edd-bdf7-d0a8d22afbb9",
   "metadata": {},
   "outputs": [
    {
     "data": {
      "text/plain": [
       "[]"
      ]
     },
     "execution_count": 43,
     "metadata": {},
     "output_type": "execute_result"
    }
   ],
   "source": [
    "config1 = configparser.ConfigParser()\n",
    "config1.sections()"
   ]
  },
  {
   "cell_type": "code",
   "execution_count": 45,
   "id": "5d49c654-0238-4691-865d-b4982a88699d",
   "metadata": {},
   "outputs": [
    {
     "name": "stdout",
     "output_type": "stream",
     "text": [
      "['EXAMPLE', 'TOP_SECRET']\n"
     ]
    }
   ],
   "source": [
    "config1.read('first_file.ini')\n",
    "print(config1.sections())\n"
   ]
  },
  {
   "cell_type": "code",
   "execution_count": 47,
   "id": "7c31dbf9-568d-46c5-b475-72928b1837d2",
   "metadata": {},
   "outputs": [
    {
     "name": "stdout",
     "output_type": "stream",
     "text": [
      "True\n",
      "False\n"
     ]
    }
   ],
   "source": [
    "print('EXAMPLE' in config1)\n",
    "print('python.org' in config1)\n",
    "\n",
    "topsecret = config1['TOP_SECRET']"
   ]
  },
  {
   "cell_type": "code",
   "execution_count": 48,
   "id": "55f04efb-f685-48c3-91f1-e920f30b5f51",
   "metadata": {},
   "outputs": [
    {
     "name": "stdout",
     "output_type": "stream",
     "text": [
      "hg\n"
     ]
    }
   ],
   "source": [
    "a = config1['EXAMPLE']['User']\n",
    "print(a)"
   ]
  },
  {
   "cell_type": "code",
   "execution_count": 52,
   "id": "4ae07ca7-8e53-494b-b4b5-137c9e0d7c18",
   "metadata": {},
   "outputs": [
    {
     "name": "stdout",
     "output_type": "stream",
     "text": [
      "9.0 <class 'float'>\n"
     ]
    }
   ],
   "source": [
    "cl = float(config1[\"DEFAULT\"][\"compressionlevel\"])\n",
    "\n",
    "print(cl, type(cl))"
   ]
  },
  {
   "cell_type": "code",
   "execution_count": 53,
   "id": "2a6ea26b-9be6-4355-9636-99515ea827cd",
   "metadata": {},
   "outputs": [
    {
     "name": "stdout",
     "output_type": "stream",
     "text": [
      "user\n",
      "serveraliveinterval\n",
      "compression\n",
      "compressionlevel\n",
      "forwardx11\n"
     ]
    }
   ],
   "source": [
    "for key in config1['EXAMPLE']:\n",
    "    print(key)"
   ]
  },
  {
   "cell_type": "code",
   "execution_count": 54,
   "id": "31513f6c-4c9e-483f-bad9-bf6e32ec091c",
   "metadata": {},
   "outputs": [
    {
     "data": {
      "text/plain": [
       "'yes'"
      ]
     },
     "execution_count": 54,
     "metadata": {},
     "output_type": "execute_result"
    }
   ],
   "source": [
    "config['EXAMPLE']['ForwardX11']"
   ]
  },
  {
   "cell_type": "code",
   "execution_count": 55,
   "id": "34a6df1d-349b-4481-856c-cbd31994126e",
   "metadata": {},
   "outputs": [
    {
     "data": {
      "text/plain": [
       "'50022'"
      ]
     },
     "execution_count": 55,
     "metadata": {},
     "output_type": "execute_result"
    }
   ],
   "source": [
    "topsecret.get('Port')"
   ]
  },
  {
   "cell_type": "code",
   "execution_count": 57,
   "id": "0a97c166-d5a5-4969-b661-dd714ec53c10",
   "metadata": {},
   "outputs": [
    {
     "name": "stdout",
     "output_type": "stream",
     "text": [
      "Keys added successfully!\n"
     ]
    }
   ],
   "source": [
    "# Define the file path\n",
    "ini_file = \"first_file.ini\"\n",
    "\n",
    "# Initialize ConfigParser and read the file\n",
    "cp = configparser.ConfigParser()\n",
    "cp.read(ini_file)\n",
    "\n",
    "# Add new keys using set()\n",
    "cp.set(\"EXAMPLE\", \"group\", \"developers\")  # Add 'group' key to EXAMPLE\n",
    "cp.set(\"TOP_SECRET\", \"mpi\", \"enabled\")    # Add 'mpi' key to TOP_SECRET\n",
    "\n",
    "# Write back the modified file\n",
    "with open(ini_file, \"w\") as configfile:\n",
    "    cp.write(configfile)\n",
    "\n",
    "print(\"Keys added successfully!\")\n"
   ]
  },
  {
   "cell_type": "code",
   "execution_count": 58,
   "id": "f862f947-432f-44b5-b23b-7c534cac59b6",
   "metadata": {},
   "outputs": [
    {
     "name": "stdout",
     "output_type": "stream",
     "text": [
      "[DEFAULT]\n",
      "serveraliveinterval = 45\n",
      "compression = yes\n",
      "compressionlevel = 9\n",
      "forwardx11 = yes\n",
      "\n",
      "[EXAMPLE]\n",
      "user = hg\n",
      "group = developers\n",
      "\n",
      "[TOP_SECRET]\n",
      "port = 50022\n",
      "forwardx11 = no\n",
      "mpi = enabled\n",
      "\n"
     ]
    }
   ],
   "source": [
    "!cat first_file.ini"
   ]
  },
  {
   "cell_type": "markdown",
   "id": "73ac399c-add6-439d-8633-0157d4eb4dd3",
   "metadata": {},
   "source": []
  }
 ],
 "metadata": {
  "kernelspec": {
   "display_name": "Python 3 (ipykernel)",
   "language": "python",
   "name": "python3"
  },
  "language_info": {
   "codemirror_mode": {
    "name": "ipython",
    "version": 3
   },
   "file_extension": ".py",
   "mimetype": "text/x-python",
   "name": "python",
   "nbconvert_exporter": "python",
   "pygments_lexer": "ipython3",
   "version": "3.9.18"
  }
 },
 "nbformat": 4,
 "nbformat_minor": 5
}
