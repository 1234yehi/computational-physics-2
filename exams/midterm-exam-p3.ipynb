{
 "cells": [
  {
   "cell_type": "markdown",
   "id": "7f46d571-90f2-4c1a-af7f-de81e7ac3d90",
   "metadata": {},
   "source": [
    "# Midterm Exam (part 3) - Computational Physics I\n",
    "\n",
    "### Deadline: Tuesday 8 April 2024 (by 19h00)\n",
    "### Name: "
   ]
  },
  {
   "cell_type": "markdown",
   "id": "eb5f8b7a-a947-4615-94b9-2bc2b4eb92d8",
   "metadata": {},
   "source": [
    "## Part 2. (20 points) Two-Body Problem: Black Hole and Earth-like Planet\n",
    "\n",
    "This problem consists of developing your own standalone python module to simulate a two-body problem. The module accepts initial parameters from the user and delivers customised simulations of two-body systems where the interaction between the two bodies is of gravitational nature, accounting for relativistic effects.\n",
    "\n",
    "We will assume that the most massive object of mass $M= 5\\times 10^6\\,M_{\\odot}$ is a **black hole** and it is located at the origin of the Cartesian coordinate system $(x,y)$, while the other object is a **planet the size of Earth** with mass $m=m_{\\rm earth}$, orbiting around the black hole. In this coordinate system, the position of the planet is $\\vec{r} = x\\hat{x} + y\\hat{y}$, which is the vector pointing from the black hole to the planet. Note that $M_{\\odot}$ stands for 1 Solar mass.\n",
    "\n",
    "To account for relativistic effects, we need to modify the Newtonian equations of motion. We will use the post-Newtonian approximation, which provides an adequate balance between accuracy and computational efficiency for orbits around the black hole. The **relativistic ODE system** describing the motion of the planet is:\n",
    "\n",
    "$$\\frac{d\\vec{r}}{dt}=\\vec{v}$$\n",
    "\n",
    "$$m\\frac{d\\vec{v}}{dt} = -\\frac{G\\,m\\,M}{r^3} \\vec{r} \\left( 1 + \\frac{3\\,L^2}{r^2\\,c^2} \\right)$$\n",
    "\n",
    "where $L = |\\vec{r} \\times \\vec{v}|$ is the specific angular momentum of the planet, and $c$ is the speed of light. The correction term, $\\frac{3\\,L^2}{r^2\\,c^2}$, accounts for the relativistic precession of the orbit. Note that $m$ cancels out in the above equation.\n",
    "\n",
    "In addition, Kepler’s third law for $M\\gg m$ states that: $4\\,\\pi^2\\,a^3\\approx{G\\,M}\\,T^2$, where $a=1\\,\\rm AU$ is the semi-major axis of the elliptical relative motion of one object relative to the other and $T$ is the orbital period. If $a$ is in astronomical units (where $1 AU\\equiv$ distance between the Sun and the Earth), $T$ is in $yr$, and $M$ is in solar masses, then $a^3 = T^2$, so $4\\,\\pi^2 \\approx G\\,M$.\n",
    "\n",
    "At $t=0$, we will place the planet at **periapsis** (the closest point in its orbit to the black hole). Thus:\n",
    "\n",
    "$$x_0 = 0$$\n",
    "\n",
    "$$y_0 = a\\,(1-e)$$\n",
    "\n",
    "$$v_{x0} = -\\sqrt{\\frac{G\\,M}{a}\\frac{1+e}{1-e}}$$\n",
    "\n",
    "$$v_{y0} = 0$$\n",
    "\n",
    "where $e$ is the eccentricity of the orbit. You can adjust $e$ to control the orbit shape.\n",
    "\n",
    "\n",
    "#### References:\n",
    "\n",
    "\n",
    "### Module design (1 point):\n",
    "\n",
    "(a) Read the instructions below and clearly outline the directory structure of your module. Follow the class notes on how to structure python packages.\n",
    "\n",
    "### Code development (12 points):\n",
    "\n",
    "Create a single python script/module **orbits.py**, adequately organised in classes and functions, that:\n",
    "\n",
    "(a) initialises the two-body problem on a 2D Cartesian grid with an option to save the initial map (if the user wishes to do so). Use the Argparse Library to facilitate user customisation.\n",
    "\n",
    "(b) includes two own-developed ODE integration methods to carry out **Runge-Kutta** integrations (RK3 and RK4).\n",
    "\n",
    "(c) includes a function for the **relativistic** and **classical** slopes given by the above equations of motion.\n",
    "\n",
    "(d) includes a run class to integrate the above system of ODEs for $T=2$ orbital periods and saves the history of the planet's orbital motion around the black hole into an output file. **Note:** Both ODEs need to be integrated simultaneously, so you don't need separate functions for the integration of each.\n",
    "\n",
    "(e) includes an animation class that reads the planet's orbital history and returns a GIF animation containing the planet position and velocity at different times. The user should be able to turn on a flag at runtime to indicate if the GIF animation is desired. Use the Argparse Library to add this functionality.\n",
    "\n",
    "(f) accepts as inputs from the user: $e$, $T$, and the numerical method (\"RK3\" or \"RK4\") to update the ODE system. Use the Argparse Library to add this functionality. **Note:** Please provide an example of how I should execute your code in the README.md file and include your simulations in the **outputfolder** for a reference.\n",
    "\n",
    "\n",
    "### Analysis (8 points):\n",
    "\n",
    "Within a single python notebook **analysis.ipynb**, add the following:\n",
    "\n",
    "(g) Use your script to generate three relativistic simulations: one for $e=0.01671$ (Earth's eccentricity), one for $e=0.25$ (which is Pluto's eccentricity), and one for $e=0.967$ (Halley's comet eccentricity) for $T=2$ and RK4.\n",
    "\n",
    "(h) What would happen if Earth would have the eccentrity of Pluto or Halley's comet? It may be helpful to compare the orbital history for all values of $e$ in a single plot throughout time.\n",
    "\n",
    "(i) Use your script to generate two additional simulations only for $e=0.01671$ (Earth's eccentricity) with RK3 and RK4.\n",
    "\n",
    "(j) Use your script to measure convergence of the simulations with RK3 and RK4 for $e=0.01671$ by integrating at a number of different time steps. To analyse convergence, you need to define some measure for the error, and then plot it against different time steps for both RK methods. Thus, you should add additional functions for this to your code in **kepler.py**. \n",
    "\n",
    "**Note:** Please include all your simulation outputs in the **outputfolder** for a reference."
   ]
  },
  {
   "cell_type": "code",
   "execution_count": null,
   "id": "ef27ec23-d882-4984-90e4-5446775aa692",
   "metadata": {},
   "outputs": [],
   "source": []
  }
 ],
 "metadata": {
  "kernelspec": {
   "display_name": "Python 3 (ipykernel)",
   "language": "python",
   "name": "python3"
  },
  "language_info": {
   "codemirror_mode": {
    "name": "ipython",
    "version": 3
   },
   "file_extension": ".py",
   "mimetype": "text/x-python",
   "name": "python",
   "nbconvert_exporter": "python",
   "pygments_lexer": "ipython3",
   "version": "3.9.18"
  }
 },
 "nbformat": 4,
 "nbformat_minor": 5
}
